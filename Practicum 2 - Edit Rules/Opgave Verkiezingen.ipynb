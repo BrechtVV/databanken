{
 "cells": [
  {
   "cell_type": "markdown",
   "metadata": {},
   "source": [
    "U bent opgeroepen als voorzitter van een stemopnemingsbureau (vakjargon voor een telbureau) tijdens de volgende gemeenteraadsverkiezingen. Proficiat! \n",
    "\n",
    "Uw onbeduidende excuses om te verzaken aan uw burgerplicht werden terecht afgewezen door de kantonvoorzitter en aangezien U nog niet zolang student af bent, is de gegarandeerde boete bij afwezigheid toch wat zwaar om te dragen. Er zit dus niets anders op dan een zondagmiddag gezellig door te brengen met het tellen van stemmen. Omdat U deze zondagmiddag zo snel mogelijk wil afsluiten, is het van het grootste belang om de cijfers correct door te geven aan de vrederechter. Deze zal de cijfers controleren en als U betrapt op een telfout, wacht U niet alleen eeuwig misprijzen en schaamte, maar moet U bovendien opnieuw aan het tellen. U heeft er dus alle belang bij om de inconsistenties in de getelde stemmen vroegtijdig te ontdekken en corrigeren waar nodig. Gelukkig heeft U het vak Geavanceerde Databanken gevolgd, alwaar U de nodige kennis verzamelde met betrekking tot edit regels in de vorm van lineaire vergelijkingen en ongelijkheden. U hoeft ons nu nog niet te bedanken.\n",
    "\n",
    "Een telbureau krijgt steeds van drie verschillende stembureaus een zak met ingevulde stembiljetten plus wat bijhorende documenten. Belangrijk is dat elke zak een aantal ingevulde stembiljetten vermeldt. Dit is het resultaat van een telling van elk stembureau afzonderlijk. Deze cijfers kan U vinden in 'stembureaus.csv'."
   ]
  },
  {
   "cell_type": "code",
   "execution_count": null,
   "metadata": {},
   "outputs": [],
   "source": [
    "# Lees de file 'stembureaus.csv' in met behulp van pandas\n",
    "import pandas as pd\n",
    "stembureaus = pd.read_csv('stembureaus.csv')\n",
    "stembureaus"
   ]
  },
  {
   "cell_type": "markdown",
   "metadata": {},
   "source": [
    "Een eerste taak is het controleren van deze cijfers door zelf elke zak met biljetten na te tellen. Deze cijfers kan U vinden in 'telbureau.csv'."
   ]
  },
  {
   "cell_type": "code",
   "execution_count": null,
   "metadata": {},
   "outputs": [],
   "source": [
    "# Lees de file 'telbureau.csv' in met behulp van pandas\n",
    "telbureau = pd.read_csv('telbureau.csv')\n",
    "telbureau"
   ]
  },
  {
   "cell_type": "markdown",
   "metadata": {},
   "source": [
    "Eens dit gedaan, kent U het totaal aantal biljetten en hopelijk is dit hetzelfde als het totaal van de drie tellingen door de stembureaus.\n",
    "\n",
    "Eens de resultaten van de stembureaus zijn gecontroleerd, kan U beginnen tellen. Eerst worden de stembiljetten gesorteerd per partij. Op een afzonderlijke stapel worden de biljetten die blanco of ongeldig zijn bijgehouden. Deze stapels geven het aantal biljetten per partij + het aantal blanco of ongeldige biljetten en kan je vinden in 'resultaten.csv'.\n",
    "\n",
    "Voor elke partij wordt er vervolgens een onderscheid gemaakt tussen enerzijds biljetten met een lijststem en biljetten met een voorkeursstem. Een biljet met een lijststem geldt als een stem op een partij en akkoord met de gemaakte rangschikking van kandidaten. Het bevat slechts één aanduiding naast de naam van de partij. Bij biljetten met voorkeurstemmen wordt er gestemd op één of meerdere personen van dezelfde partij. Het is niet toegestaan op verschillende partijen te stemmen (dergelijke biljetten zijn ongeldig). Verder wordt nog onderscheid gemaakt tussen voorkeurstemmen voor effectieven en voorkeurstemmen voor opvolgers."
   ]
  },
  {
   "cell_type": "code",
   "execution_count": null,
   "metadata": {},
   "outputs": [],
   "source": [
    "# Lees de files 'resultaten.csv', 'resultaten_detail.csv' en 'voorkeursstemmen_[partij].csv' in.\n",
    "resultaten = pd.read_csv('resultaten.csv')\n",
    "resultaten_detail = pd.read_csv('resultaten_detail.csv')\n",
    "vrroooom = pd.read_csv('voorkeur_vrroooom.csv')\n",
    "azuur = pd.read_csv('voorkeur_azuur.csv')\n",
    "sosg = pd.read_csv('voorkeur_sosg.csv')\n",
    "belangrijk = pd.read_csv('voorkeur_belangrijk.csv')\n",
    "groenten = pd.read_csv('voorkeur_groenten.csv')"
   ]
  },
  {
   "cell_type": "markdown",
   "metadata": {},
   "source": [
    "In onderstaande code gaan we nu een leeg record maken en stelselmatig opvullen met de data uit de variabelen die we hebben ingelezen."
   ]
  },
  {
   "cell_type": "code",
   "execution_count": null,
   "metadata": {},
   "outputs": [],
   "source": [
    "#Make an empty dictionary and add variables \n",
    "record = {}\n",
    "\n",
    "for index, row in stembureaus.iterrows():\n",
    "    prefix = 's_' + str(row['Bureau']) + \"_\"\n",
    "    \n",
    "    for column in stembureaus:\n",
    "        if(str(column) != 'Bureau'):\n",
    "            attribute_name = prefix + str(column)\n",
    "            record[attribute_name] = row[column]\n",
    "        \n",
    "print(record)"
   ]
  },
  {
   "cell_type": "code",
   "execution_count": null,
   "metadata": {},
   "outputs": [],
   "source": [
    "for index, row in telbureau.iterrows():\n",
    "    attribute_name = 'check_s_' + str(row['Stembureau']) + \"_biljetten_in_bus\"\n",
    "    record[attribute_name] = row['biljetten_in_bus']\n",
    "        \n",
    "print(record)"
   ]
  },
  {
   "cell_type": "code",
   "execution_count": null,
   "metadata": {},
   "outputs": [],
   "source": [
    "for index, row in resultaten.iterrows():\n",
    "    attribute_name = 'totaal_' + str(row['partij'])\n",
    "    record[attribute_name] = row['stemmen']\n",
    "        \n",
    "print(record)"
   ]
  },
  {
   "cell_type": "code",
   "execution_count": null,
   "metadata": {},
   "outputs": [],
   "source": [
    "#Voeg de detail resultaten toe...\n"
   ]
  },
  {
   "cell_type": "code",
   "execution_count": null,
   "metadata": {},
   "outputs": [],
   "source": [
    "#Voeg de resultaten van de voorkeurstemmen van de verschillende partijen toe\n",
    "\n",
    "#Voorkeurstemmen groenten\n",
    "\n",
    "#Voorkeurstemmen vrroooom\n",
    "  \n",
    "#Voorkeurstemmen belangrijk\n",
    "        \n",
    "#Voorkeurstemmen azuur\n",
    "\n",
    "#Voorkeurstemmen sosg\n"
   ]
  },
  {
   "cell_type": "markdown",
   "metadata": {},
   "source": [
    "Onderstaande code toont nu het hele record, het aantal kolommen en de grootte van de zoekruimte voor het branch-and-bound algoritme"
   ]
  },
  {
   "cell_type": "code",
   "execution_count": null,
   "metadata": {},
   "outputs": [],
   "source": [
    "print('Number of attributes:' + str(len(record)))\n",
    "print('Number of solutions:' + str(2**len(record)))\n",
    "\n",
    "print(record)"
   ]
  },
  {
   "cell_type": "markdown",
   "metadata": {},
   "source": [
    "Om de consistentie van stemresultaten te controleren, zijn verschillende edit regels nodig. De data zijn allemaal gehele getallen en in een dergelijk geval zijn lineaire vergelijkingen en ongelijkheden een vaak gebruikt instrument om consistentie te controleren. Onderstaande code vormt de basisstructuur voor dit soort regels. Vul zelf deze code verder aan zodat (i) een edit regel kan worden gevalideerd, (ii) een attribuut kan worden gecontroleerd op betrokkenheid, (iii) een edit regel kan worden gecontroleerd op contradictie en (iv) en edit regel kan worden gecontroleerd op een tautologie."
   ]
  },
  {
   "cell_type": "code",
   "execution_count": 2,
   "metadata": {},
   "outputs": [],
   "source": [
    "#Import enum\n",
    "from enum import Enum\n",
    "\n",
    "#Make an enum for types of edits\n",
    "class RuleType(Enum):\n",
    "    EQUAL = 1\n",
    "    GREATER_THAN_ZERO = 2\n",
    "    GREATER_THAN_OR_EQUAL_TO_ZERO = 3"
   ]
  },
  {
   "cell_type": "code",
   "execution_count": null,
   "metadata": {},
   "outputs": [],
   "source": [
    "class EditRule(object):\n",
    "    #Constructor\n",
    "    def __init__(self, coefficients:dict, constant:int, rule_type:RuleType):\n",
    "        self.coefficients = coefficients\n",
    "        self.constant = constant\n",
    "        self.rule_type = rule_type\n",
    "    \n",
    "    #Implement the methods below\n",
    "    \n",
    "    #Does this rule involve an attribute?\n",
    "    def involves(self, attribute:str):\n",
    "            \n",
    "    #Is this rule satisfied for a given record?\n",
    "    def is_satisfied(self, record:dict):\n",
    "            \n",
    "    #Is this rule a tautology?\n",
    "    def is_tautology(self):\n",
    "    \n",
    "    #Is this rule a contradiction?\n",
    "    def is_contradiction(self):\n",
    "    \n",
    "    #String representation of a rule\n",
    "    def __repr__(self):\n",
    "        "
   ]
  },
  {
   "cell_type": "markdown",
   "metadata": {},
   "source": [
    "Stel zelf een verzameling van edit regels op die toelaat om na te gaan of data van een telbureau consistent zijn. Pas je regels toe op de gegeven data en controleer of er fouten zijn."
   ]
  },
  {
   "cell_type": "code",
   "execution_count": null,
   "metadata": {},
   "outputs": [],
   "source": [
    "# Maak edit regels aan om consistenties te detecteren en pas ze toe op de ingelezen data\n",
    "rules = []\n",
    "\n",
    "#Controle stembureaus\n",
    "\n",
    "#Controle stembureau vs. telbureau\n",
    "\n",
    "#Controle totalen\n",
    "\n",
    "#Controle resultaten_details\n",
    "\n",
    "#Controle voorkeursstemmen totalen\n",
    "\n",
    "#partijen = ['Groenten', 'Belang-Rijk', 'S.O.S.Gent', 'A+Zuur', 'Vrroooom']\n",
    "    \n",
    "#Controle individuele voorkeursstemmen\n",
    "\n",
    "#Zoek alle regels die falen\n",
    "#failed_rules = ...\n",
    "\n",
    "#Print het aantal gefaalde regels\n",
    "\n",
    "#Print de regels die falen\n"
   ]
  },
  {
   "cell_type": "markdown",
   "metadata": {},
   "source": [
    "Om fouten te kunnen lokaliseren, hebben we verschillende methoden nodig die inwerken op één of meerdere edit regels van bovenstaande signatuur. Een eerste eenvoudige methode, is het vastleggen van een variabele. Implementeer deze methode in onderstaande codeblok."
   ]
  },
  {
   "cell_type": "code",
   "execution_count": null,
   "metadata": {},
   "outputs": [],
   "source": [
    "def fix(edit_rule, attribute, record):\n",
    "    #Als het attribuut betrokken is in de regel, elimineer via fixing. Anders, return de regel\n",
    "    "
   ]
  },
  {
   "cell_type": "markdown",
   "metadata": {},
   "source": [
    "Een tweede methode die nodig is, is het elimineren van een variabele in het geval dat die variabele voorkomt in een vergelijking. In dat geval, kunnen we een variabele elimineren door een eenvoudige substitutie toe te passen. Implementeer deze methode in onderstaande codeblok."
   ]
  },
  {
   "cell_type": "code",
   "execution_count": null,
   "metadata": {},
   "outputs": [],
   "source": [
    "# Implementeer de logica om 'attribute' te substitueren in de 'target_rule', ervan uitgaande dat 'equality_rule' een gelijkheid is waar 'attribute' in voorkomt\n",
    "# Deze methode geeft een aangepaste edit rule terug, waar 'attribute' niet langer in voorkomt\n",
    "def substitute(equality_rule, target_rule, attribute):\n",
    "   "
   ]
  },
  {
   "cell_type": "markdown",
   "metadata": {},
   "source": [
    "Een derde methode die nodig is, is de Fourier Motzkin eliminatie van een variabele uit een stelsel ongelijkheden. Implementeer deze methode in onderstaande codeblok."
   ]
  },
  {
   "cell_type": "code",
   "execution_count": null,
   "metadata": {},
   "outputs": [],
   "source": [
    "# Implementeer de logica om een nieuwe ongelijkheid te induceren, vertrekkende van twee ongelijkheden waar 'attribute' in voorkomt met coëfficiënten van tegengestelde tekens\n",
    "# Deze methode geeft een aangepaste edit rule terug, waar 'attribute' niet langer in voorkomt\n",
    "def fourier_motzkin(attribute, upper_bound_rule, lower_bound_rule):\n",
    "    "
   ]
  },
  {
   "cell_type": "markdown",
   "metadata": {},
   "source": [
    "De methoden 'substitute' en 'fourier_motzkin' kunnen nu worden samengebracht in een methode die een attribuut elimineert uit een set van regels. Implementeer deze methode in onderstaande codeblok."
   ]
  },
  {
   "cell_type": "code",
   "execution_count": null,
   "metadata": {},
   "outputs": [],
   "source": [
    "# Implementeer de eleminatie van een attribuut uit een set van regels.\n",
    "# Deze methode geeft een lijst van regels terug waaruit 'attribute' geëlemineerd is.\n",
    "def eliminate (rules:list, attribute):\n",
    " "
   ]
  },
  {
   "cell_type": "markdown",
   "metadata": {},
   "source": [
    "Met bovenstaande methoden ter beschikking, hebben we al twee belangrijke tools ter beschikking om een branch-and-bound algoritme neer te schrijven dat fouten localiseert. Voor het zover is, dienen we eerst nog aantal hulp methoden te implementeren. Een eerste daarvan is het beoordelen van een mogelijke oplossing voor het foutlocatie probleem."
   ]
  },
  {
   "cell_type": "code",
   "execution_count": null,
   "metadata": {},
   "outputs": [],
   "source": [
    "# Implementeer het beoordelen van een mogelijke oplossing.\n",
    "# Deze methode geeft een getal terug dat kleiner is voor betere oplossingen.\n",
    "def assess(attributes:set):"
   ]
  },
  {
   "cell_type": "markdown",
   "metadata": {},
   "source": [
    "Op dit moment zijn alle bouwstenen aanwezig om een implementatie te maken van het branch-and-bound algoritme voor foutlocatie. Vervolledig onderstaande functie."
   ]
  },
  {
   "cell_type": "code",
   "execution_count": null,
   "metadata": {},
   "outputs": [],
   "source": [
    "# Implementeer het behandelen van een attribuut in de branch-and-bound filosofie. Dit betekent dat je een attribuut kiest,\n",
    "# het in één geval fixeert en in een ander geval elimineert.\n",
    "# In het geval van eliminatie kan het attribuut worden toegevoegd aan de 'solution prefix' (de oplossing die je opbouwt)\n",
    "# Zoek recursief verder.\n",
    "\n",
    "# In het geval de zoekruimte leeg is, voeg je de solution prefix toe aan de 'feasible solutions' op voorwaarde dat de oplossing optimaal is\n",
    "# Vergeet niet de bounding strategie te implementeren die controleert of een solution prefix niet te groot is om nog optimaal te zijn\n",
    "def treat(search_space, record, feasible_solutions, solution_prefix, rules):\n"
   ]
  },
  {
   "cell_type": "raw",
   "metadata": {},
   "source": [
    "De laatste stap die we beschouwen, is het opbouwen van de zoekruimte. Dit is de verzameling van attributen dat we willen beschouwen om te imputeren (lees: dit zijn kandidaten om aan te passen)"
   ]
  },
  {
   "cell_type": "code",
   "execution_count": null,
   "metadata": {},
   "outputs": [],
   "source": [
    "# Implementeer het opbouwen van de zoekruimte\n",
    "# Deze methode geeft een set van attributen die in beschouwing worden genomen tijdens het zoeken met branch-and-bound\n",
    "def build_search_space(edit_rules, record):\n"
   ]
  },
  {
   "cell_type": "markdown",
   "metadata": {},
   "source": [
    "Tot slot implementeer je nu het branch-and-bound zoekalgoritme op basis van de bovenstaande bouwstenen"
   ]
  },
  {
   "cell_type": "code",
   "execution_count": null,
   "metadata": {},
   "outputs": [],
   "source": [
    "# Implementeer het branch-and-bound zoekalgoritme voor foutlocatie.\n",
    "# Deze methode geeft alle optimale oplossingen\n",
    "def branch_and_bound(edit_rules, record):\n"
   ]
  },
  {
   "cell_type": "markdown",
   "metadata": {},
   "source": [
    "Pas nu het algoritme toe op de gegeven data met verkiezingsuitslagen."
   ]
  },
  {
   "cell_type": "code",
   "execution_count": null,
   "metadata": {},
   "outputs": [],
   "source": []
  },
  {
   "cell_type": "markdown",
   "metadata": {},
   "source": [
    "Nog enkele denkvragen:\n",
    "\n",
    "- Als je je assess methode implementeert zodat er rekening wordt gehouden met a priori betrouwbaarheid van attributen, hoe kan je dan je branch-and-bound optimaliseren?\n",
    "\n",
    "- Wat kan je zeggen over de performatie van branch-and-bound in het geval van meer fouten?"
   ]
  }
 ],
 "metadata": {
  "kernelspec": {
   "display_name": "Python 3",
   "language": "python",
   "name": "python3"
  },
  "language_info": {
   "codemirror_mode": {
    "name": "ipython",
    "version": 3
   },
   "file_extension": ".py",
   "mimetype": "text/x-python",
   "name": "python",
   "nbconvert_exporter": "python",
   "pygments_lexer": "ipython3",
   "version": "3.7.4"
  }
 },
 "nbformat": 4,
 "nbformat_minor": 2
}
